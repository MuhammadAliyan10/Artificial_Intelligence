{
 "cells": [
  {
   "cell_type": "markdown",
   "metadata": {},
   "source": [
    "**args is used to pass a variable number of positional arguments to a function. It collects all the positional arguments into a tuple within the function.*"
   ]
  },
  {
   "cell_type": "code",
   "execution_count": 2,
   "metadata": {},
   "outputs": [],
   "source": [
    "def sum(*args) -> int:\n",
    "    result = 0\n",
    "    for arg in args:\n",
    "        result = arg + result\n",
    "    return result"
   ]
  },
  {
   "cell_type": "code",
   "execution_count": 3,
   "metadata": {},
   "outputs": [
    {
     "data": {
      "text/plain": [
       "28"
      ]
     },
     "execution_count": 3,
     "metadata": {},
     "output_type": "execute_result"
    }
   ],
   "source": [
    "sum(1,2,3,4,5,6,7)"
   ]
  },
  {
   "cell_type": "markdown",
   "metadata": {},
   "source": [
    "*kwargs is used to pass a variable number of keyword arguments to a function. It collects all the keyword arguments into a dictionary within the function.*"
   ]
  },
  {
   "cell_type": "code",
   "execution_count": 19,
   "metadata": {},
   "outputs": [],
   "source": [
    "def saveHistory(**kwargs) -> str:\n",
    "    for key, value in kwargs.items():\n",
    "        print (f\"{key}: {value}\")"
   ]
  },
  {
   "cell_type": "code",
   "execution_count": 20,
   "metadata": {},
   "outputs": [
    {
     "name": "stdout",
     "output_type": "stream",
     "text": [
      "name: Aliyan\n",
      "age: 20\n",
      "Program: BSCS\n"
     ]
    }
   ],
   "source": [
    "saveHistory(name=\"Aliyan\",age = 20, Program= \"BSCS\")"
   ]
  },
  {
   "cell_type": "markdown",
   "metadata": {},
   "source": [
    "#### *With args and kwargs*"
   ]
  },
  {
   "cell_type": "code",
   "execution_count": 17,
   "metadata": {},
   "outputs": [],
   "source": [
    "def user(*args, **kwargs) -> set:\n",
    "    for arg in args:\n",
    "        print(arg)\n",
    "    for key,value in kwargs.items():\n",
    "        print(f\"{key}: {value}\")"
   ]
  },
  {
   "cell_type": "code",
   "execution_count": 18,
   "metadata": {},
   "outputs": [
    {
     "name": "stdout",
     "output_type": "stream",
     "text": [
      "1\n",
      "2\n",
      "4\n",
      "5\n",
      "6\n",
      "7\n",
      "name: Aliyan\n",
      "smester: 2\n"
     ]
    }
   ],
   "source": [
    "user(1,2,4,5,6,7,name=\"Aliyan\",smester=2)"
   ]
  }
 ],
 "metadata": {
  "kernelspec": {
   "display_name": "Python 3",
   "language": "python",
   "name": "python3"
  },
  "language_info": {
   "codemirror_mode": {
    "name": "ipython",
    "version": 3
   },
   "file_extension": ".py",
   "mimetype": "text/x-python",
   "name": "python",
   "nbconvert_exporter": "python",
   "pygments_lexer": "ipython3",
   "version": "3.11.2"
  }
 },
 "nbformat": 4,
 "nbformat_minor": 2
}
