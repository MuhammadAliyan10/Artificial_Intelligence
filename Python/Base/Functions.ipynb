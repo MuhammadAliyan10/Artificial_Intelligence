{
 "cells": [
  {
   "cell_type": "code",
   "execution_count": 1,
   "metadata": {},
   "outputs": [],
   "source": [
    "def sum(a,b) -> int:\n",
    "    return a + b if type(a) and type(b) is int else print(\"Write provide an int value\")"
   ]
  },
  {
   "cell_type": "code",
   "execution_count": 3,
   "metadata": {},
   "outputs": [
    {
     "name": "stdout",
     "output_type": "stream",
     "text": [
      "Write provide an int value\n"
     ]
    }
   ],
   "source": [
    "sum(10,\"12\")"
   ]
  },
  {
   "cell_type": "code",
   "execution_count": 4,
   "metadata": {},
   "outputs": [],
   "source": [
    "def innerFunction(multilply, name, x,y) -> None:\n",
    "    mul: int = multilply(x,y)\n",
    "    print(f\"The name of the student is {name} and result is {mul}\")"
   ]
  },
  {
   "cell_type": "code",
   "execution_count": 5,
   "metadata": {},
   "outputs": [],
   "source": [
    "def mul(x,y) -> int:\n",
    "    return x * y"
   ]
  },
  {
   "cell_type": "code",
   "execution_count": 6,
   "metadata": {},
   "outputs": [
    {
     "name": "stdout",
     "output_type": "stream",
     "text": [
      "The name of the student is Aliyan and result is 120\n"
     ]
    }
   ],
   "source": [
    "innerFunction(mul,\"Aliyan\",10,12)"
   ]
  },
  {
   "cell_type": "code",
   "execution_count": 10,
   "metadata": {},
   "outputs": [
    {
     "name": "stdout",
     "output_type": "stream",
     "text": [
      "aliyan got 24 marks.\n"
     ]
    }
   ],
   "source": [
    "def outerFunction(mul, *args, name) -> None:\n",
    "    result = mul(*args)\n",
    "    print(f\"{name} got {result} marks.\")\n",
    "\n",
    "def mul(*args) -> int:\n",
    "    res = 1\n",
    "    for i in args:\n",
    "        res *= i\n",
    "    return res\n",
    "\n",
    "outerFunction(mul, 1, 2, 3, 4, name=\"aliyan\")\n"
   ]
  }
 ],
 "metadata": {
  "kernelspec": {
   "display_name": "Python 3",
   "language": "python",
   "name": "python3"
  },
  "language_info": {
   "codemirror_mode": {
    "name": "ipython",
    "version": 3
   },
   "file_extension": ".py",
   "mimetype": "text/x-python",
   "name": "python",
   "nbconvert_exporter": "python",
   "pygments_lexer": "ipython3",
   "version": "3.11.2"
  }
 },
 "nbformat": 4,
 "nbformat_minor": 2
}
