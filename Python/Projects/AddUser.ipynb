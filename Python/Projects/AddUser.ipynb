{
 "cells": [
  {
   "cell_type": "code",
   "execution_count": 25,
   "metadata": {},
   "outputs": [],
   "source": [
    "import os\n",
    "import datetime as datetime"
   ]
  },
  {
   "cell_type": "code",
   "execution_count": 26,
   "metadata": {},
   "outputs": [],
   "source": [
    "time = datetime.datetime.now()\n",
    "timeNow = time.strftime(\"On %A, %B %dth, %Y at %I:%M%p\")"
   ]
  },
  {
   "cell_type": "code",
   "execution_count": 35,
   "metadata": {},
   "outputs": [],
   "source": [
    "class AddUser:\n",
    "    def __init__(self,name,age,gender,isMarried):\n",
    "        self.name =name\n",
    "        self.age= age\n",
    "        self.gender = gender\n",
    "        self.isMarried = isMarried\n",
    "        self.timeStamps = timeNow\n",
    "    def addUser(self):\n",
    "        if not self.name and self.age and self.gender and self.isMarried: \n",
    "            print(\"All the fields are required\")\n",
    "        else:\n",
    "            content:str =f\"\"\"\n",
    "                        Name : {self.name}\n",
    "                        Age : {self.age}\n",
    "                        Gender : {self.gender}\n",
    "                        isMarried : {self.isMarried}\n",
    "                        Time Added : {self.timeStamps}\n",
    "                        \"\"\"\n",
    "            with open(\"Data.txt\", \"a\") as f:\n",
    "                f.write(content)\n",
    "            print(\"User added successfully.\")\n",
    "    def showUser(self,name):\n",
    "        try:\n",
    "            with open(\"Data.txt\",\"r\") as f:\n",
    "                data = f.readlines()\n",
    "            for index,user in enumerate(data):\n",
    "                user = user.find(name)\n",
    "                if user > 0:\n",
    "                    break\n",
    "            if user > 0:\n",
    "                print(f\"\"\"\n",
    "                      {data[index]}\n",
    "                      {data[index + 1]}\n",
    "                      {data[index + 2]}\n",
    "                      {data[index + 3]}\n",
    "                      {data[index + 4]}\n",
    "                      \"\"\")\n",
    "            else:\n",
    "                print(\"No user Found\")\n",
    "        except FileNotFoundError:\n",
    "            print(\"No such a file or directory.\")\n",
    "    def deleteUser(self):\n",
    "        pass"
   ]
  },
  {
   "cell_type": "code",
   "execution_count": 36,
   "metadata": {},
   "outputs": [
    {
     "name": "stdout",
     "output_type": "stream",
     "text": [
      "User added successfully.\n"
     ]
    }
   ],
   "source": [
    "name : str=input(\"Enter your name : \")\n",
    "age : int = int(input(\"Enter your age : \"))\n",
    "gender : str  = input(\"Enter your gender (m/f) : \")\n",
    "isMarried :str = input(\"Are you married? (y/n) : \")\n",
    "aU= AddUser(name,age,gender,isMarried) \n",
    "aU.addUser()"
   ]
  },
  {
   "cell_type": "code",
   "execution_count": 37,
   "metadata": {},
   "outputs": [
    {
     "name": "stdout",
     "output_type": "stream",
     "text": [
      "\n",
      "                                              Name : Aliyan\n",
      "\n",
      "                                              Age : 19\n",
      "\n",
      "                                              Gender : m\n",
      "\n",
      "                                              isMarried : n\n",
      "\n",
      "                      \n"
     ]
    }
   ],
   "source": [
    "searchName : str= input(\"Enter username to search : \")\n",
    "aU.showUser(searchName)"
   ]
  },
  {
   "cell_type": "code",
   "execution_count": null,
   "metadata": {},
   "outputs": [],
   "source": []
  }
 ],
 "metadata": {
  "kernelspec": {
   "display_name": "Python 3",
   "language": "python",
   "name": "python3"
  },
  "language_info": {
   "codemirror_mode": {
    "name": "ipython",
    "version": 3
   },
   "file_extension": ".py",
   "mimetype": "text/x-python",
   "name": "python",
   "nbconvert_exporter": "python",
   "pygments_lexer": "ipython3",
   "version": "3.11.2"
  }
 },
 "nbformat": 4,
 "nbformat_minor": 2
}
