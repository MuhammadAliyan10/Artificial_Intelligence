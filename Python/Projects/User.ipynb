{
 "cells": [
  {
   "cell_type": "code",
   "execution_count": 1,
   "metadata": {},
   "outputs": [],
   "source": [
    "import os\n",
    "import datetime as datetime"
   ]
  },
  {
   "cell_type": "code",
   "execution_count": 2,
   "metadata": {},
   "outputs": [],
   "source": [
    "time = datetime.datetime.now()\n",
    "timeNow = time.strftime(\"On %A, %B %dth, %Y at %I:%M%p\")"
   ]
  },
  {
   "cell_type": "code",
   "execution_count": 3,
   "metadata": {},
   "outputs": [],
   "source": [
    "import fileinput\n",
    "\n",
    "class AddUser:\n",
    "    def __init__(self, name, age, gender, isMarried):\n",
    "        self.name = name\n",
    "        self.age = age\n",
    "        self.gender = gender\n",
    "        self.isMarried = isMarried\n",
    "        self.timeStamps = datetime.now().strftime(\"%A, %B %dth, %Y at %I:%M%p\")\n",
    "\n",
    "    def addUser(self):\n",
    "        if not self.name or not self.age or not self.gender or not self.isMarried:\n",
    "            print(\"All the fields are required\")\n",
    "        else:\n",
    "            content = f\"\"\"\n",
    "Name : {self.name}\n",
    "Age : {self.age}\n",
    "Gender : {self.gender}\n",
    "isMarried : {self.isMarried}\n",
    "Time Added : {self.timeStamps}\n",
    "\"\"\"\n",
    "            with open(\"Data.txt\", \"a\") as f:\n",
    "                f.write(content)\n",
    "            print(\"User added successfully.\")\n",
    "\n",
    "    def showUser(self, name):\n",
    "        try:\n",
    "            with open(\"Data.txt\",\"r\") as f:\n",
    "                data = f.readlines()\n",
    "            user_exists = False\n",
    "            for index, user_info in enumerate(data):\n",
    "                if f\"Name : {name}\" in user_info:\n",
    "                    user_exists = True\n",
    "                    break\n",
    "            if user_exists:\n",
    "                print(f\"\"\"\n",
    "{data[index]}\n",
    "{data[index + 1]}\n",
    "{data[index + 2]}\n",
    "{data[index + 3]}\n",
    "{data[index + 4]}\n",
    "                \"\"\")\n",
    "            else:\n",
    "                print(\"No user Found\")\n",
    "        except FileNotFoundError:\n",
    "            print(\"No such a file or directory.\")\n",
    "\n",
    "    def deleteUser(self, name):\n",
    "        def deleteUserData(fileName, lines_to_remove):\n",
    "            for line_num, line in enumerate(fileinput.input(fileName, inplace=True)):\n",
    "                if line_num + 1 not in lines_to_remove:\n",
    "                    print(line, end='')\n",
    "\n",
    "        def userLinesToRemove():\n",
    "            try:\n",
    "                with open(\"Data.txt\", \"r\") as f:\n",
    "                    data = f.readlines()\n",
    "                user_indices = [index for index, user_info in enumerate(data) if f\"Name : {name}\" in user_info]\n",
    "                if user_indices:\n",
    "                    lines_to_remove = {i for index in user_indices for i in range(index, index + 5)}\n",
    "                    return lines_to_remove\n",
    "                else:\n",
    "                    print(\"No user Found\")\n",
    "                    return set()\n",
    "            except FileNotFoundError:\n",
    "                print(\"No such a file or directory.\")\n",
    "                return set()\n",
    "\n",
    "        lines = userLinesToRemove()\n",
    "        if lines:\n",
    "            deleteUserData('Data.txt', lines)\n",
    "            print(\"User deleted successfully.\")\n"
   ]
  },
  {
   "cell_type": "code",
   "execution_count": 4,
   "metadata": {},
   "outputs": [
    {
     "ename": "AttributeError",
     "evalue": "module 'datetime' has no attribute 'now'",
     "output_type": "error",
     "traceback": [
      "\u001b[0;31m---------------------------------------------------------------------------\u001b[0m",
      "\u001b[0;31mAttributeError\u001b[0m                            Traceback (most recent call last)",
      "Cell \u001b[0;32mIn[4], line 5\u001b[0m\n\u001b[1;32m      3\u001b[0m gender : \u001b[38;5;28mstr\u001b[39m  \u001b[38;5;241m=\u001b[39m \u001b[38;5;28minput\u001b[39m(\u001b[38;5;124m\"\u001b[39m\u001b[38;5;124mEnter your gender (m/f) : \u001b[39m\u001b[38;5;124m\"\u001b[39m)\n\u001b[1;32m      4\u001b[0m isMarried :\u001b[38;5;28mstr\u001b[39m \u001b[38;5;241m=\u001b[39m \u001b[38;5;28minput\u001b[39m(\u001b[38;5;124m\"\u001b[39m\u001b[38;5;124mAre you married? (y/n) : \u001b[39m\u001b[38;5;124m\"\u001b[39m)\n\u001b[0;32m----> 5\u001b[0m user\u001b[38;5;241m=\u001b[39m \u001b[43mAddUser\u001b[49m\u001b[43m(\u001b[49m\u001b[43mname\u001b[49m\u001b[43m,\u001b[49m\u001b[43mage\u001b[49m\u001b[43m,\u001b[49m\u001b[43mgender\u001b[49m\u001b[43m,\u001b[49m\u001b[43misMarried\u001b[49m\u001b[43m)\u001b[49m \n\u001b[1;32m      6\u001b[0m user\u001b[38;5;241m.\u001b[39maddUser()\n",
      "Cell \u001b[0;32mIn[3], line 9\u001b[0m, in \u001b[0;36mAddUser.__init__\u001b[0;34m(self, name, age, gender, isMarried)\u001b[0m\n\u001b[1;32m      7\u001b[0m \u001b[38;5;28mself\u001b[39m\u001b[38;5;241m.\u001b[39mgender \u001b[38;5;241m=\u001b[39m gender\n\u001b[1;32m      8\u001b[0m \u001b[38;5;28mself\u001b[39m\u001b[38;5;241m.\u001b[39misMarried \u001b[38;5;241m=\u001b[39m isMarried\n\u001b[0;32m----> 9\u001b[0m \u001b[38;5;28mself\u001b[39m\u001b[38;5;241m.\u001b[39mtimeStamps \u001b[38;5;241m=\u001b[39m \u001b[43mdatetime\u001b[49m\u001b[38;5;241;43m.\u001b[39;49m\u001b[43mnow\u001b[49m()\u001b[38;5;241m.\u001b[39mstrftime(\u001b[38;5;124m\"\u001b[39m\u001b[38;5;124m%\u001b[39m\u001b[38;5;124mA, \u001b[39m\u001b[38;5;124m%\u001b[39m\u001b[38;5;124mB \u001b[39m\u001b[38;5;132;01m%d\u001b[39;00m\u001b[38;5;124mth, \u001b[39m\u001b[38;5;124m%\u001b[39m\u001b[38;5;124mY at \u001b[39m\u001b[38;5;124m%\u001b[39m\u001b[38;5;124mI:\u001b[39m\u001b[38;5;124m%\u001b[39m\u001b[38;5;124mM\u001b[39m\u001b[38;5;124m%\u001b[39m\u001b[38;5;124mp\u001b[39m\u001b[38;5;124m\"\u001b[39m)\n",
      "\u001b[0;31mAttributeError\u001b[0m: module 'datetime' has no attribute 'now'"
     ]
    }
   ],
   "source": [
    "name : str=input(\"Enter your name : \")\n",
    "age : int = int(input(\"Enter your age : \"))\n",
    "gender : str  = input(\"Enter your gender (m/f) : \")\n",
    "isMarried :str = input(\"Are you married? (y/n) : \")\n",
    "user= AddUser(name,age,gender,isMarried) \n",
    "user.addUser()"
   ]
  },
  {
   "cell_type": "code",
   "execution_count": null,
   "metadata": {},
   "outputs": [],
   "source": [
    "searchName : str= input(\"Enter username to search : \")\n",
    "user.showUser(searchName)"
   ]
  },
  {
   "cell_type": "code",
   "execution_count": null,
   "metadata": {},
   "outputs": [],
   "source": [
    "searchName : str= input(\"Enter username to delete : \")\n",
    "user.deleteUser(searchName)"
   ]
  }
 ],
 "metadata": {
  "kernelspec": {
   "display_name": "Python 3",
   "language": "python",
   "name": "python3"
  },
  "language_info": {
   "codemirror_mode": {
    "name": "ipython",
    "version": 3
   },
   "file_extension": ".py",
   "mimetype": "text/x-python",
   "name": "python",
   "nbconvert_exporter": "python",
   "pygments_lexer": "ipython3",
   "version": "3.12.2"
  }
 },
 "nbformat": 4,
 "nbformat_minor": 2
}
