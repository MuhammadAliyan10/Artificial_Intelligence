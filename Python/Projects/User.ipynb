{
 "cells": [
  {
   "cell_type": "code",
   "execution_count": 35,
   "metadata": {},
   "outputs": [],
   "source": [
    "import os\n",
    "import datetime as datetime"
   ]
  },
  {
   "cell_type": "code",
   "execution_count": 36,
   "metadata": {},
   "outputs": [],
   "source": [
    "time = datetime.datetime.now()\n",
    "timeNow = time.strftime(\"On %A, %B %dth, %Y at %I:%M%p\")"
   ]
  },
  {
   "cell_type": "code",
   "execution_count": 42,
   "metadata": {},
   "outputs": [],
   "source": [
    "import fileinput\n",
    "\n",
    "class AddUser:\n",
    "    def __init__(self, name, age, gender, isMarried):\n",
    "        self.name = name\n",
    "        self.age = age\n",
    "        self.gender = gender\n",
    "        self.isMarried = isMarried\n",
    "        self.timeStamps = datetime.now().strftime(\"%A, %B %dth, %Y at %I:%M%p\")\n",
    "\n",
    "    def addUser(self):\n",
    "        if not self.name or not self.age or not self.gender or not self.isMarried:\n",
    "            print(\"All the fields are required\")\n",
    "        else:\n",
    "            content = f\"\"\"\n",
    "Name : {self.name}\n",
    "Age : {self.age}\n",
    "Gender : {self.gender}\n",
    "isMarried : {self.isMarried}\n",
    "Time Added : {self.timeStamps}\n",
    "\"\"\"\n",
    "            with open(\"Data.txt\", \"a\") as f:\n",
    "                f.write(content)\n",
    "            print(\"User added successfully.\")\n",
    "\n",
    "    def showUser(self, name):\n",
    "        try:\n",
    "            with open(\"Data.txt\",\"r\") as f:\n",
    "                data = f.readlines()\n",
    "            user_exists = False\n",
    "            for index, user_info in enumerate(data):\n",
    "                if f\"Name : {name}\" in user_info:\n",
    "                    user_exists = True\n",
    "                    break\n",
    "            if user_exists:\n",
    "                print(f\"\"\"\n",
    "{data[index]}\n",
    "{data[index + 1]}\n",
    "{data[index + 2]}\n",
    "{data[index + 3]}\n",
    "{data[index + 4]}\n",
    "                \"\"\")\n",
    "            else:\n",
    "                print(\"No user Found\")\n",
    "        except FileNotFoundError:\n",
    "            print(\"No such a file or directory.\")\n",
    "\n",
    "    def deleteUser(self, name):\n",
    "        def deleteUserData(fileName, lines_to_remove):\n",
    "            for line_num, line in enumerate(fileinput.input(fileName, inplace=True)):\n",
    "                if line_num + 1 not in lines_to_remove:\n",
    "                    print(line, end='')\n",
    "\n",
    "        def userLinesToRemove():\n",
    "            try:\n",
    "                with open(\"Data.txt\", \"r\") as f:\n",
    "                    data = f.readlines()\n",
    "                user_indices = [index for index, user_info in enumerate(data) if f\"Name : {name}\" in user_info]\n",
    "                if user_indices:\n",
    "                    lines_to_remove = {i for index in user_indices for i in range(index, index + 5)}\n",
    "                    return lines_to_remove\n",
    "                else:\n",
    "                    print(\"No user Found\")\n",
    "                    return set()\n",
    "            except FileNotFoundError:\n",
    "                print(\"No such a file or directory.\")\n",
    "                return set()\n",
    "\n",
    "        lines = userLinesToRemove()\n",
    "        if lines:\n",
    "            deleteUserData('Data.txt', lines)\n",
    "            print(\"User deleted successfully.\")\n"
   ]
  },
  {
   "cell_type": "code",
   "execution_count": 43,
   "metadata": {},
   "outputs": [],
   "source": [
    "name : str=input(\"Enter your name : \")\n",
    "age : int = int(input(\"Enter your age : \"))\n",
    "gender : str  = input(\"Enter your gender (m/f) : \")\n",
    "isMarried :str = input(\"Are you married? (y/n) : \")\n",
    "user= AddUser(name,age,gender,isMarried) \n",
    "user.addUser()"
   ]
  },
  {
   "cell_type": "code",
   "execution_count": 30,
   "metadata": {},
   "outputs": [],
   "source": [
    "searchName : str= input(\"Enter username to search : \")\n",
    "user.showUser(searchName)"
   ]
  },
  {
   "cell_type": "code",
   "execution_count": 20,
   "metadata": {},
   "outputs": [],
   "source": [
    "searchName : str= input(\"Enter username to delete : \")\n",
    "user.deleteUser(searchName)"
   ]
  }
 ],
 "metadata": {
  "kernelspec": {
   "display_name": "Python 3",
   "language": "python",
   "name": "python3"
  },
  "language_info": {
   "codemirror_mode": {
    "name": "ipython",
    "version": 3
   },
   "file_extension": ".py",
   "mimetype": "text/x-python",
   "name": "python",
   "nbconvert_exporter": "python",
   "pygments_lexer": "ipython3",
   "version": "3.11.2"
  }
 },
 "nbformat": 4,
 "nbformat_minor": 2
}
