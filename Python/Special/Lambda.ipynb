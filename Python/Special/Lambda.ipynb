{
 "cells": [
  {
   "cell_type": "code",
   "execution_count": 2,
   "metadata": {},
   "outputs": [
    {
     "name": "stdout",
     "output_type": "stream",
     "text": [
      "22\n",
      "<class 'function'>\n"
     ]
    }
   ],
   "source": [
    "sum : function = lambda a,b : print(a + b)\n",
    "sum(10,12)\n",
    "print(type(sum))"
   ]
  },
  {
   "cell_type": "code",
   "execution_count": 1,
   "metadata": {},
   "outputs": [
    {
     "name": "stdout",
     "output_type": "stream",
     "text": [
      "[2, 4, 6, 8, 10, 12, 14]\n"
     ]
    }
   ],
   "source": [
    "num : list[int] = [1,2,3,4,5,6,7]\n",
    "square : list[int] = list(map(lambda x : x * 2, num))\n",
    "print(square)"
   ]
  },
  {
   "cell_type": "code",
   "execution_count": 2,
   "metadata": {},
   "outputs": [
    {
     "name": "stdout",
     "output_type": "stream",
     "text": [
      "[{'name': 'Aliyan', 'age': 19}, {'name': 'Zubair', 'age': 20}, {'name': 'Noor', 'age': 21}, {'name': 'Usama', 'age': 23}]\n"
     ]
    }
   ],
   "source": [
    "students : list = [\n",
    "    {\"name\": \"Aliyan\",\"age\" : 19},\n",
    "    {\"name\":\"Noor\",\"age\":21},\n",
    "    {\"name\":\"Usama\",\"age\":23},\n",
    "    {\"name\":\"Zubair\",\"age\":20},\n",
    "    ]\n",
    "sort_list : list = sorted(students, key=lambda x: x['age'])\n",
    "print(sort_list)"
   ]
  },
  {
   "cell_type": "code",
   "execution_count": 3,
   "metadata": {},
   "outputs": [
    {
     "name": "stdout",
     "output_type": "stream",
     "text": [
      "{'name': 'Aliyan', 'age': 19}\n",
      "{'name': 'Zubair', 'age': 20}\n",
      "{'name': 'Noor', 'age': 21}\n",
      "{'name': 'Usama', 'age': 23}\n"
     ]
    }
   ],
   "source": [
    "for student in sort_list:\n",
    "    print(student)"
   ]
  }
 ],
 "metadata": {
  "kernelspec": {
   "display_name": "Python 3",
   "language": "python",
   "name": "python3"
  },
  "language_info": {
   "codemirror_mode": {
    "name": "ipython",
    "version": 3
   },
   "file_extension": ".py",
   "mimetype": "text/x-python",
   "name": "python",
   "nbconvert_exporter": "python",
   "pygments_lexer": "ipython3",
   "version": "3.11.2"
  }
 },
 "nbformat": 4,
 "nbformat_minor": 2
}
