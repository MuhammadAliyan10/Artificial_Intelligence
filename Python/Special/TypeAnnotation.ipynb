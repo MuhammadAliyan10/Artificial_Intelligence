{
 "cells": [
  {
   "cell_type": "code",
   "execution_count": 1,
   "metadata": {},
   "outputs": [],
   "source": [
    "name : str = \"Muhammad Aliyan\"\n",
    "age : int = 20\n",
    "gpa : float = 3.56\n",
    "is_passed : bool = True\n",
    "total_subjects : list[str] = [\"Math\", \"English\",\"Urdu\"]"
   ]
  },
  {
   "cell_type": "code",
   "execution_count": 6,
   "metadata": {},
   "outputs": [],
   "source": [
    "def checkPassed(number: list[int],passingNumber : int) -> bool:\n",
    "    result = 0\n",
    "    for num in number:\n",
    "        result = result + num\n",
    "    return result > passingNumber\n",
    "        "
   ]
  },
  {
   "cell_type": "code",
   "execution_count": 7,
   "metadata": {},
   "outputs": [
    {
     "name": "stdout",
     "output_type": "stream",
     "text": [
      "Failed\n"
     ]
    }
   ],
   "source": [
    "num : list[int] = [100,43,12]\n",
    "if checkPassed(num,200):\n",
    "    print(\"Passed\")\n",
    "else:\n",
    "    print(\"Failed\")\n"
   ]
  }
 ],
 "metadata": {
  "kernelspec": {
   "display_name": "Python 3",
   "language": "python",
   "name": "python3"
  },
  "language_info": {
   "codemirror_mode": {
    "name": "ipython",
    "version": 3
   },
   "file_extension": ".py",
   "mimetype": "text/x-python",
   "name": "python",
   "nbconvert_exporter": "python",
   "pygments_lexer": "ipython3",
   "version": "3.11.2"
  }
 },
 "nbformat": 4,
 "nbformat_minor": 2
}
