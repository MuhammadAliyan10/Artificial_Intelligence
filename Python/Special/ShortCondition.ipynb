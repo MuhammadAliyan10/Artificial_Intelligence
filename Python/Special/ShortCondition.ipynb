{
 "cells": [
  {
   "cell_type": "code",
   "execution_count": null,
   "metadata": {},
   "outputs": [],
   "source": [
    "a  =20\n",
    "b = 10\n",
    "\n",
    "print(a) if a < b else print(b)\n",
    "c = (a + b) if a < b else a-b\n",
    "print(c)"
   ]
  }
 ],
 "metadata": {
  "language_info": {
   "name": "python"
  }
 },
 "nbformat": 4,
 "nbformat_minor": 2
}
