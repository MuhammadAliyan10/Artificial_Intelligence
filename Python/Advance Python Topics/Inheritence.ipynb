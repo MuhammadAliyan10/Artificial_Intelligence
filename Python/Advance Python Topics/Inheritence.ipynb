{
 "cells": [
  {
   "cell_type": "code",
   "execution_count": 3,
   "metadata": {},
   "outputs": [],
   "source": [
    "class Animal:\n",
    "    def __init__(self,name):\n",
    "        self.name = name\n",
    "    def sound(self):\n",
    "        print(\"Meo Meo\") if self.name == \"Cat\" else print(\"Bowf Bowf\")"
   ]
  },
  {
   "cell_type": "code",
   "execution_count": 5,
   "metadata": {},
   "outputs": [
    {
     "name": "stdout",
     "output_type": "stream",
     "text": [
      "Bowf Bowf\n"
     ]
    }
   ],
   "source": [
    "cat = Animal(\"Dog\")\n",
    "cat.sound()"
   ]
  },
  {
   "cell_type": "code",
   "execution_count": 26,
   "metadata": {},
   "outputs": [],
   "source": [
    "class Semester1:\n",
    "    def __init__(self,semester: str,totalSubjects: int, totalMarks: int,obtainMarks: list[int]):\n",
    "        self.semester = semester\n",
    "        self.totalSubjects = totalSubjects\n",
    "        self.totalMarks = totalMarks\n",
    "        self.obtainMarks = obtainMarks\n",
    "    def Marks(self):\n",
    "        totalMarksObtained: int = 0\n",
    "        for i in self.obtainMarks:\n",
    "            totalMarksObtained = totalMarksObtained + i\n",
    "        return totalMarksObtained\n",
    "    def Percentage(self):\n",
    "        percentage:float = self.Marks() / self.totalMarks * 100\n",
    "        return percentage\n",
    "    def Result(self):\n",
    "        print(f\"The student got {self.Marks()} marks with the percentage of {self.Percentage()}% out of {self.totalMarks} marks in {self.totalSubjects} subjects in semester {self.semester}.\")\n",
    "\n",
    "class Semester2(Semester1):\n",
    "    def __init__(self,semester: str,totalSubjects: int, totalMarks: int,obtainMarks: list[int]):\n",
    "        self.semester = semester\n",
    "        self.totalSubjects = totalSubjects\n",
    "        self.totalMarks = totalMarks\n",
    "        self.obtainMarks = obtainMarks\n",
    "        \n",
    "            "
   ]
  },
  {
   "cell_type": "code",
   "execution_count": 27,
   "metadata": {},
   "outputs": [
    {
     "name": "stdout",
     "output_type": "stream",
     "text": [
      "The student got 359 marks with the percentage of 71.8% out of 500 marks in 5 subjects in semester One.\n"
     ]
    }
   ],
   "source": [
    "result = Semester1(\"One\",5,500,[90,89,98,50,32])\n",
    "result.Result()"
   ]
  },
  {
   "cell_type": "code",
   "execution_count": 29,
   "metadata": {},
   "outputs": [
    {
     "name": "stdout",
     "output_type": "stream",
     "text": [
      "The student got 271 marks with the percentage of 54.2% out of 500 marks in 5 subjects in semester Two.\n"
     ]
    }
   ],
   "source": [
    "result = Semester2(\"Two\",5,500,[90,89,10,50,32])\n",
    "result.Result()"
   ]
  },
  {
   "cell_type": "code",
   "execution_count": null,
   "metadata": {},
   "outputs": [],
   "source": []
  }
 ],
 "metadata": {
  "kernelspec": {
   "display_name": "Python 3",
   "language": "python",
   "name": "python3"
  },
  "language_info": {
   "codemirror_mode": {
    "name": "ipython",
    "version": 3
   },
   "file_extension": ".py",
   "mimetype": "text/x-python",
   "name": "python",
   "nbconvert_exporter": "python",
   "pygments_lexer": "ipython3",
   "version": "3.11.2"
  }
 },
 "nbformat": 4,
 "nbformat_minor": 2
}
