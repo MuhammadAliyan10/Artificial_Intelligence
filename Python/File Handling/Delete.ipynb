{
 "cells": [
  {
   "cell_type": "code",
   "execution_count": 1,
   "metadata": {},
   "outputs": [],
   "source": [
    "import os\n",
    "import fileinput"
   ]
  },
  {
   "cell_type": "code",
   "execution_count": 6,
   "metadata": {},
   "outputs": [],
   "source": [
    "import fileinput\n",
    "import os\n",
    "\n",
    "def remove_lines(filename, lines_to_remove):\n",
    "    for line_num, line in enumerate(fileinput.input(filename, inplace=True)):\n",
    "        if line_num + 1 not in lines_to_remove:\n",
    "            print(line, end='')\n",
    "\n",
    "# Example usage:\n",
    "filename = 'Text.txt'\n",
    "lines_to_remove = {1, 2,3}  # Set of line numbers to remove\n",
    "remove_lines(filename, lines_to_remove)\n"
   ]
  },
  {
   "cell_type": "code",
   "execution_count": null,
   "metadata": {},
   "outputs": [],
   "source": []
  }
 ],
 "metadata": {
  "kernelspec": {
   "display_name": "Python 3",
   "language": "python",
   "name": "python3"
  },
  "language_info": {
   "codemirror_mode": {
    "name": "ipython",
    "version": 3
   },
   "file_extension": ".py",
   "mimetype": "text/x-python",
   "name": "python",
   "nbconvert_exporter": "python",
   "pygments_lexer": "ipython3",
   "version": "3.11.2"
  }
 },
 "nbformat": 4,
 "nbformat_minor": 2
}
