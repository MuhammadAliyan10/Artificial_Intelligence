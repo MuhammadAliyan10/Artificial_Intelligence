{
 "cells": [
  {
   "cell_type": "code",
   "execution_count": 1,
   "metadata": {},
   "outputs": [],
   "source": [
    "import os\n",
    "import fileinput"
   ]
  },
  {
   "cell_type": "code",
   "execution_count": 6,
   "metadata": {},
   "outputs": [],
   "source": [
    "import fileinput\n",
    "import os\n",
    "\n",
    "def remove_lines(filename, lines_to_remove) -> None:\n",
    "    for line_num, line in enumerate(fileinput.input(filename, inplace=True)):\n",
    "        if line_num + 1 not in lines_to_remove:\n",
    "            print(line, end='')\n",
    "\n",
    "# Example usage:\n",
    "filename :str= 'Text.txt'\n",
    "lines_to_remove : set[int] = {1, 2, 3}  \n",
    "remove_lines(filename, lines_to_remove)\n"
   ]
  }
 ],
 "metadata": {
  "kernelspec": {
   "display_name": "Python 3",
   "language": "python",
   "name": "python3"
  },
  "language_info": {
   "codemirror_mode": {
    "name": "ipython",
    "version": 3
   },
   "file_extension": ".py",
   "mimetype": "text/x-python",
   "name": "python",
   "nbconvert_exporter": "python",
   "pygments_lexer": "ipython3",
   "version": "3.11.2"
  }
 },
 "nbformat": 4,
 "nbformat_minor": 2
}
