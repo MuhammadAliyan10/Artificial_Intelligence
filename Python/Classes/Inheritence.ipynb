{
 "cells": [
  {
   "cell_type": "code",
   "execution_count": 14,
   "metadata": {},
   "outputs": [],
   "source": [
    "import os\n",
    "from datetime import datetime"
   ]
  },
  {
   "cell_type": "code",
   "execution_count": 15,
   "metadata": {},
   "outputs": [],
   "source": [
    "class GradeFinder:\n",
    "    def gradeFinder(totalMarks : int) -> float:\n",
    "        if(totalMarks > 90):\n",
    "            return 4.00\n",
    "        elif(totalMarks >= 80 and totalMarks <= 85):\n",
    "            return 3.75\n",
    "        elif(totalMarks >= 75 and totalMarks <= 79):\n",
    "            return 3.50\n",
    "        elif(totalMarks >= 70 and totalMarks <= 74):\n",
    "            return 3.25\n",
    "        elif(totalMarks >= 65 and totalMarks <= 69):\n",
    "            return 3.00\n",
    "        elif(totalMarks >= 60 and totalMarks <= 64):\n",
    "            return 2.50\n",
    "        elif(totalMarks >= 55 and totalMarks <= 59):\n",
    "            return 2.00\n",
    "        elif(totalMarks >= 50 and totalMarks <= 54):\n",
    "            return 1.50\n",
    "        else:\n",
    "            return 0"
   ]
  },
  {
   "cell_type": "code",
   "execution_count": 16,
   "metadata": {},
   "outputs": [],
   "source": [
    "class Semester1(GradeFinder):\n",
    "    def __init__(self, name: str, totalSubject: int, totalCreditHours: list[int], totalMarks: list[int]):\n",
    "        self.name = name\n",
    "        self.totalSubject = totalSubject\n",
    "        self.totalCreditHours = totalCreditHours\n",
    "        self.totalMarks = totalMarks\n",
    "\n",
    "    def creditHourReturn(self, creditHours: list[int]) -> int:\n",
    "        totalCreditHours: int = 0\n",
    "        for ch in creditHours:\n",
    "            totalCreditHours += ch\n",
    "        return totalCreditHours\n",
    "\n",
    "    def GPA(self) -> float:\n",
    "        totalGradePoints: float = 0\n",
    "        totalCreditHours: int = 0\n",
    "        for i in range(self.totalSubject):\n",
    "            gradePoint: float = GradeFinder.gradeFinder(self.totalMarks[i])\n",
    "            totalGradePoints += gradePoint * self.totalCreditHours[i]\n",
    "            totalCreditHours += self.totalCreditHours[i]\n",
    "        GPA: float = totalGradePoints / totalCreditHours\n",
    "        return GPA\n"
   ]
  },
  {
   "cell_type": "code",
   "execution_count": 18,
   "metadata": {},
   "outputs": [
    {
     "name": "stdout",
     "output_type": "stream",
     "text": [
      "Data entered successfully.\n"
     ]
    }
   ],
   "source": [
    "name : str = input(\"Enter your full name : \")\n",
    "totalSubjects : int = int(input(\"Enter total amount of subjects : \"))\n",
    "totalCreditHours : list[int] = []\n",
    "for i in range(totalSubjects):\n",
    "    totalCreditHours.append(int(input(f\"Enter credit hour of subject {i + 1} : \")))\n",
    "numberObtained: list[int] = []\n",
    "for i in range(totalSubjects):\n",
    "    numberObtained.append(int(input(f\"Enter number obtained in subject {i + 1} : \")))\n",
    "S1 = Semester1(name,totalSubjects,totalCreditHours,numberObtained)\n",
    "gpa = S1.GPA()\n",
    "current_datetime = datetime.now()\n",
    "formatted_datetime = current_datetime.strftime(\"%d/%m/%y %H:%M\")\n",
    "\n",
    "studentData = f\"\"\"\n",
    "Name : {name}\n",
    "Total Subjects : {totalSubjects}\n",
    "Total Credit Hours : {S1.creditHourReturn(totalCreditHours)}\n",
    "GPA : {gpa}\n",
    "TimeStamp : {formatted_datetime}\n",
    "\"\"\"\n",
    "fileName = \"Result.txt\"    \n",
    "with open(fileName, \"a\") as f:\n",
    "   f.write(studentData)\n",
    "   print(\"Data entered successfully.\")\n"
   ]
  },
  {
   "cell_type": "code",
   "execution_count": null,
   "metadata": {},
   "outputs": [],
   "source": []
  }
 ],
 "metadata": {
  "kernelspec": {
   "display_name": "Python 3",
   "language": "python",
   "name": "python3"
  },
  "language_info": {
   "codemirror_mode": {
    "name": "ipython",
    "version": 3
   },
   "file_extension": ".py",
   "mimetype": "text/x-python",
   "name": "python",
   "nbconvert_exporter": "python",
   "pygments_lexer": "ipython3",
   "version": "3.11.2"
  }
 },
 "nbformat": 4,
 "nbformat_minor": 2
}
