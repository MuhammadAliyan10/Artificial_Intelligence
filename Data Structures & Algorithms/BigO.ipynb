{
 "cells": [
  {
   "cell_type": "markdown",
   "metadata": {},
   "source": [
    "# ***Big O***"
   ]
  },
  {
   "cell_type": "markdown",
   "metadata": {},
   "source": [
    "**BigO notation is used to measure how running time or space requirement for your program grow s input size grows**"
   ]
  },
  {
   "cell_type": "markdown",
   "metadata": {},
   "source": [
    "## ***Time Complexity***"
   ]
  },
  {
   "cell_type": "markdown",
   "metadata": {},
   "source": [
    "*def(fo) -> size(arr) -> 100 -> 1.2 ms*\n",
    "\n",
    "*def(fo) -> size(arr) -> 100000 -> 2.5 ms*\n",
    "\n",
    "*time = a * n + b where b is constant*\n",
    "\n",
    "**Rule 1: Keep fastest growing term so drop the b**\n",
    "\n",
    "*time = a * n*\n",
    "\n",
    "**Rule 2 : Drop constant**\n",
    "\n",
    "*time = n because the time is dependent on number of times the program executes*\n",
    "\n",
    "*time = 0(n)*"
   ]
  },
  {
   "cell_type": "code",
   "execution_count": 1,
   "metadata": {},
   "outputs": [],
   "source": [
    "def get_squared(numbers : list[int]) -> list[int]:\n",
    "    squared_numbers : list[int] = [x * x for x in numbers]\n",
    "    return squared_numbers"
   ]
  },
  {
   "cell_type": "code",
   "execution_count": 2,
   "metadata": {},
   "outputs": [
    {
     "name": "stdout",
     "output_type": "stream",
     "text": [
      "[4, 25, 64, 81]\n"
     ]
    }
   ],
   "source": [
    "numbers:list[int] = [2,5,8,9]\n",
    "print(get_squared(numbers))"
   ]
  },
  {
   "cell_type": "markdown",
   "metadata": {},
   "source": [
    "*The below code has two iteration because there is two loop so*\n",
    "\n",
    "*time = O(n^2)*"
   ]
  },
  {
   "cell_type": "code",
   "execution_count": 9,
   "metadata": {},
   "outputs": [],
   "source": [
    "def dublicate(number:list[int]) -> None:\n",
    "    n : int = len(number)\n",
    "    for i in range(n):\n",
    "        for j in range(i + 1, n):\n",
    "            if number[i] == number[j]:\n",
    "                print(\"Number duplicate \" , number[i])\n",
    "                break"
   ]
  },
  {
   "cell_type": "markdown",
   "metadata": {},
   "source": [
    "*This code has one iteration so the time will be O(n)*"
   ]
  },
  {
   "cell_type": "code",
   "execution_count": 11,
   "metadata": {},
   "outputs": [],
   "source": [
    "dublicate = None\n",
    "num  = [2,5,3,2,4,2,5]\n",
    "for i in range(len(num)):\n",
    "    if num[i] == dublicate:\n",
    "        print(i)"
   ]
  },
  {
   "cell_type": "markdown",
   "metadata": {},
   "source": [
    "**So the time = a * n ^ 2 + b * n + c**\n",
    "\n",
    "*After applying these rules*\n",
    "\n",
    "*Droping Constants*\n",
    "\n",
    "*time = O(n ^ 2) where O is ordered*"
   ]
  },
  {
   "cell_type": "markdown",
   "metadata": {},
   "source": [
    "*Why we are applying these rules?*\n",
    "\n",
    "*So the thing is that bigO refers to large value of n. Hence if you have a fuction like that*\n",
    "\n",
    "*time = 5 * n ^ 2 + 3 * n + 20*\n",
    "\n",
    "*When the value of become very large b * n + c become irrevalant*\n",
    "\n",
    "****Example 1 :****\n",
    "\n",
    "*n = 1000*\n",
    "\n",
    "*time = 5 * 1000 ^ 2 + 3 * 1000 + 20*\n",
    "\n",
    "*We can see now that the an^2 has large change compare to bn + c*"
   ]
  },
  {
   "cell_type": "code",
   "execution_count": null,
   "metadata": {},
   "outputs": [],
   "source": [
    "number = [2,5,4,2,12,5]\n",
    "dublicate(number)"
   ]
  },
  {
   "cell_type": "markdown",
   "metadata": {},
   "source": [
    "### O(log n) - Logarithmic Time\n",
    "\n",
    "*This indicates that the algorithm's runtime grows logarithmically as the size of the input increases. Binary search is an example of an O(log n) algorithm, where the search space is halved in each iteration.*"
   ]
  },
  {
   "cell_type": "code",
   "execution_count": 44,
   "metadata": {},
   "outputs": [],
   "source": [
    "def binary_search(array:list[int],target:int) ->int:\n",
    "    low,high = 0, len(array) -1\n",
    "    while low <= high:\n",
    "        mid:int = (low + high) // 2\n",
    "        if array[mid] == target:\n",
    "            return mid\n",
    "        elif array[mid] < target:\n",
    "            low = mid + 1\n",
    "        else:\n",
    "            high = mid - 1\n",
    "    return -1"
   ]
  },
  {
   "cell_type": "code",
   "execution_count": 46,
   "metadata": {},
   "outputs": [
    {
     "data": {
      "text/plain": [
       "2"
      ]
     },
     "execution_count": 46,
     "metadata": {},
     "output_type": "execute_result"
    }
   ],
   "source": [
    "array : list[int] = [31,2,13,25,36,42,51]\n",
    "target: int = 13\n",
    "binary_search(array, target)"
   ]
  },
  {
   "cell_type": "code",
   "execution_count": null,
   "metadata": {},
   "outputs": [],
   "source": []
  }
 ],
 "metadata": {
  "kernelspec": {
   "display_name": "Python 3",
   "language": "python",
   "name": "python3"
  },
  "language_info": {
   "codemirror_mode": {
    "name": "ipython",
    "version": 3
   },
   "file_extension": ".py",
   "mimetype": "text/x-python",
   "name": "python",
   "nbconvert_exporter": "python",
   "pygments_lexer": "ipython3",
   "version": "3.11.2"
  }
 },
 "nbformat": 4,
 "nbformat_minor": 2
}
