{
 "cells": [
  {
   "cell_type": "code",
   "execution_count": 2,
   "metadata": {},
   "outputs": [],
   "source": [
    "fileName :str = \"./Data/stock_prices.csv\"\n",
    "stoke_price= []\n",
    "with open(fileName, \"r\") as data:\n",
    "    for f in data:\n",
    "        token = f.split(',')\n",
    "        day = token[0]\n",
    "        price = float(token[1])\n",
    "        stoke_price.append([day,price])\n"
   ]
  },
  {
   "cell_type": "code",
   "execution_count": 3,
   "metadata": {},
   "outputs": [
    {
     "data": {
      "text/plain": [
       "[['march 6', 310.0],\n",
       " ['march 7', 340.0],\n",
       " ['march 8', 380.0],\n",
       " ['march 9', 302.0],\n",
       " ['march 10', 297.0],\n",
       " ['march 11', 323.0]]"
      ]
     },
     "execution_count": 3,
     "metadata": {},
     "output_type": "execute_result"
    }
   ],
   "source": [
    "stoke_price"
   ]
  },
  {
   "cell_type": "code",
   "execution_count": 4,
   "metadata": {},
   "outputs": [
    {
     "name": "stdout",
     "output_type": "stream",
     "text": [
      "297.0\n"
     ]
    }
   ],
   "source": [
    "for price in stoke_price:\n",
    "    if price[0] == \"march 10\":\n",
    "        print(price[1])\n",
    "        break"
   ]
  },
  {
   "cell_type": "markdown",
   "metadata": {},
   "source": [
    "### Now we are using dict"
   ]
  },
  {
   "cell_type": "code",
   "execution_count": 8,
   "metadata": {},
   "outputs": [],
   "source": [
    "fileName :str = \"./Data/stock_prices.csv\"\n",
    "stoke_price= {}\n",
    "with open(fileName, \"r\") as data:\n",
    "    for f in data:\n",
    "        token = f.split(',')\n",
    "        day = token[0]\n",
    "        price = float(token[1])\n",
    "        stoke_price[day] = price\n"
   ]
  },
  {
   "cell_type": "code",
   "execution_count": 9,
   "metadata": {},
   "outputs": [
    {
     "data": {
      "text/plain": [
       "297.0"
      ]
     },
     "execution_count": 9,
     "metadata": {},
     "output_type": "execute_result"
    }
   ],
   "source": [
    "stoke_price['march 10']"
   ]
  },
  {
   "cell_type": "markdown",
   "metadata": {},
   "source": [
    "### **Hash Map**"
   ]
  },
  {
   "cell_type": "code",
   "execution_count": 10,
   "metadata": {},
   "outputs": [],
   "source": [
    "def find_hash(key):\n",
    "    value = 0\n",
    "    for char in key:\n",
    "        value+= ord(char)\n",
    "    return value % 100"
   ]
  },
  {
   "cell_type": "code",
   "execution_count": 12,
   "metadata": {},
   "outputs": [
    {
     "data": {
      "text/plain": [
       "9"
      ]
     },
     "execution_count": 12,
     "metadata": {},
     "output_type": "execute_result"
    }
   ],
   "source": [
    "find_hash('march 6')"
   ]
  },
  {
   "cell_type": "code",
   "execution_count": 41,
   "metadata": {},
   "outputs": [],
   "source": [
    "class HashTable:\n",
    "    def __init__(self):\n",
    "        self.MAX  = 100\n",
    "        self.arr = [None for i in range(self.MAX)]\n",
    "    def get_hash(self,key):\n",
    "        value = 0\n",
    "        for char in key:\n",
    "            value += ord(char)\n",
    "        return value % self.MAX\n",
    "    def __setitem__(self,key,value):\n",
    "        index = self.get_hash(key)\n",
    "        self.arr[index] = value\n",
    "    def __getitem__(self,key):\n",
    "        index = self.get_hash(key)\n",
    "        print(self.arr[index])\n",
    "    def __delitem__(self,key):\n",
    "        index = self.get_hash(key)\n",
    "        self.arr[index] = None"
   ]
  },
  {
   "cell_type": "code",
   "execution_count": 42,
   "metadata": {},
   "outputs": [
    {
     "name": "stdout",
     "output_type": "stream",
     "text": [
      "20\n"
     ]
    }
   ],
   "source": [
    "t: object = HashTable()\n",
    "t[\"Aliyan\"] = 20\n",
    "t[\"Aliyan\"]"
   ]
  },
  {
   "cell_type": "code",
   "execution_count": 43,
   "metadata": {},
   "outputs": [],
   "source": [
    "del t['Aliyan']"
   ]
  },
  {
   "cell_type": "code",
   "execution_count": null,
   "metadata": {},
   "outputs": [],
   "source": []
  }
 ],
 "metadata": {
  "kernelspec": {
   "display_name": "Python 3",
   "language": "python",
   "name": "python3"
  },
  "language_info": {
   "codemirror_mode": {
    "name": "ipython",
    "version": 3
   },
   "file_extension": ".py",
   "mimetype": "text/x-python",
   "name": "python",
   "nbconvert_exporter": "python",
   "pygments_lexer": "ipython3",
   "version": "3.11.2"
  }
 },
 "nbformat": 4,
 "nbformat_minor": 2
}
