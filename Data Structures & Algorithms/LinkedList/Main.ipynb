{
 "cells": [
  {
   "cell_type": "markdown",
   "metadata": {},
   "source": [
    "#### Linked List"
   ]
  },
  {
   "cell_type": "markdown",
   "metadata": {},
   "source": [
    "*The linked list means that each value in an list or an array has a link with his next or previous element.*\n",
    "\n",
    "*For example if we have a list like marks =[20,32,43,21,23] in linked list the first value of the marks means marks[0] has the address of his next value 32. Thats how its work. Same goes for the double link list and the difference is that the double has his address of his previous and next value*"
   ]
  },
  {
   "cell_type": "code",
   "execution_count": null,
   "metadata": {},
   "outputs": [],
   "source": []
  },
  {
   "cell_type": "markdown",
   "metadata": {},
   "source": [
    "| ID | Methods | Array |  Linked List  | \n",
    "|-----:|-----------|----------------------|----------|\n",
    "|     1| **Indexing**      | O(1) | O(n) |\n",
    "|     2| **Insert/ Delete at start** | O(n)  | O(1) |\n",
    "|     3| **Insert/ Delete at end** | O(1)-amortized | O(n) |\n",
    "|     4| **Inset in middle** |  O(n) | O(n) |"
   ]
  },
  {
   "cell_type": "code",
   "execution_count": 1,
   "metadata": {},
   "outputs": [],
   "source": [
    "class Node:\n",
    "    def __init__(self,data=None, next=None):\n",
    "        self.data = data\n",
    "        self.next = next"
   ]
  },
  {
   "cell_type": "code",
   "execution_count": 14,
   "metadata": {},
   "outputs": [],
   "source": [
    "class LinkedList:\n",
    "    def __init__(self):\n",
    "        self.head = None\n",
    "    def insert_at_begin(self,data):\n",
    "        node = Node(data, self.head)\n",
    "        self.head = node\n",
    "    def insert_at_end(self,data):\n",
    "        if self.head is None:\n",
    "            self.head = Node(data, None)\n",
    "            return\n",
    "        itr = self.head\n",
    "        while itr.next:\n",
    "            itr = itr.next\n",
    "        itr.next = Node(data,None)\n",
    "    def insert_values(self,data_list:list) :\n",
    "        self.head = None\n",
    "        for data in data_list:\n",
    "            self.insert_at_end(data)\n",
    "    def get_length(self):\n",
    "        count = 0\n",
    "        itr = self.head\n",
    "        while itr:\n",
    "            count += 1\n",
    "            itr = itr.next\n",
    "        return count        \n",
    "    def print(self):\n",
    "        if self.head is None:\n",
    "            print(\"Linked list is empty\")\n",
    "            return\n",
    "        itr = self.head\n",
    "        llist = \"\"\n",
    "        while itr:\n",
    "            llist += str(itr.data) + \"---->\"\n",
    "            itr = itr.next\n",
    "        print(llist)\n",
    "    \n",
    "        "
   ]
  },
  {
   "cell_type": "code",
   "execution_count": 15,
   "metadata": {},
   "outputs": [
    {
     "name": "stdout",
     "output_type": "stream",
     "text": [
      "Aliyan---->Noor---->bro---->Usman---->\n",
      "The length of the linked list is 4.\n"
     ]
    }
   ],
   "source": [
    "if __name__== '__main__':\n",
    "    l1 = LinkedList()\n",
    "    l1.insert_values(['Aliyan',\"Noor\",\"bro\",\"Usman\"])\n",
    "    l1.print()\n",
    "    print(f\"The length of the linked list is {l1.get_length()}.\" )\n",
    "    "
   ]
  },
  {
   "cell_type": "code",
   "execution_count": null,
   "metadata": {},
   "outputs": [],
   "source": []
  }
 ],
 "metadata": {
  "kernelspec": {
   "display_name": "Python 3",
   "language": "python",
   "name": "python3"
  },
  "language_info": {
   "codemirror_mode": {
    "name": "ipython",
    "version": 3
   },
   "file_extension": ".py",
   "mimetype": "text/x-python",
   "name": "python",
   "nbconvert_exporter": "python",
   "pygments_lexer": "ipython3",
   "version": "3.11.2"
  }
 },
 "nbformat": 4,
 "nbformat_minor": 2
}
