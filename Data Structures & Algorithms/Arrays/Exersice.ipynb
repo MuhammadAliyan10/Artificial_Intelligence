{
 "cells": [
  {
   "cell_type": "markdown",
   "metadata": {},
   "source": [
    "### Solution --------------------------------"
   ]
  },
  {
   "cell_type": "code",
   "execution_count": 1,
   "metadata": {},
   "outputs": [],
   "source": [
    "expense : list[int] = [2200,2350,2600,2130,2190]"
   ]
  },
  {
   "cell_type": "markdown",
   "metadata": {},
   "source": [
    "*Q1:  In Feb, how many dollars you spent extra compare to January?*"
   ]
  },
  {
   "cell_type": "code",
   "execution_count": 2,
   "metadata": {},
   "outputs": [],
   "source": [
    "def extra_money(month:int, targetMonth:int) -> None:\n",
    "    expense : list[int] = [2200,2350,2600,2130,2190]\n",
    "    total_additional_money : int = expense[targetMonth] - expense[month]\n",
    "    print(f\"Total amount of additional money: {total_additional_money}\") if total_additional_money > 0 else print(\"No additional Money\")"
   ]
  },
  {
   "cell_type": "code",
   "execution_count": 3,
   "metadata": {},
   "outputs": [
    {
     "name": "stdout",
     "output_type": "stream",
     "text": [
      "Total amount of additional money: 250\n"
     ]
    }
   ],
   "source": [
    "extra_money(1,2)"
   ]
  },
  {
   "cell_type": "markdown",
   "metadata": {},
   "source": [
    "*2. Find out your total expense in first quarter (first three months) of the year.*"
   ]
  },
  {
   "cell_type": "code",
   "execution_count": 4,
   "metadata": {},
   "outputs": [],
   "source": [
    "def first_quarter_expense(firstMonth,secondMonth,thirdMonth) -> None:\n",
    "    expense : list[int] = [2200,2350,2600,2130,2190]\n",
    "    print(f\"{expense[firstMonth] + expense[secondMonth] + expense[thirdMonth]}\")"
   ]
  },
  {
   "cell_type": "code",
   "execution_count": 5,
   "metadata": {},
   "outputs": [
    {
     "name": "stdout",
     "output_type": "stream",
     "text": [
      "7080\n"
     ]
    }
   ],
   "source": [
    "first_quarter_expense(1,2,3)"
   ]
  },
  {
   "cell_type": "markdown",
   "metadata": {},
   "source": [
    "*3. Find out if you spent exactly 2000 dollars in any month*"
   ]
  },
  {
   "cell_type": "code",
   "execution_count": 13,
   "metadata": {},
   "outputs": [],
   "source": [
    "def check_amount(amount:int) -> None:\n",
    "    expense : list[int] = [2200,2350,2600,2130,2190]\n",
    "    for i in range(len(expense)):\n",
    "        if expense[i] == amount:\n",
    "            print(f\"On month {i} you spend {amount}.\")\n",
    "            break;\n",
    "        else:\n",
    "            print(\"No month found\")\n",
    "    "
   ]
  },
  {
   "cell_type": "code",
   "execution_count": 14,
   "metadata": {},
   "outputs": [
    {
     "name": "stdout",
     "output_type": "stream",
     "text": [
      "No month found\n",
      "No month found\n",
      "No month found\n",
      "No month found\n",
      "No month found\n"
     ]
    }
   ],
   "source": [
    "check_amount(2000)"
   ]
  },
  {
   "cell_type": "markdown",
   "metadata": {},
   "source": [
    "*4. June month just finished and your expense is 1980 dollar. Add this item to our monthly expense list*"
   ]
  },
  {
   "cell_type": "code",
   "execution_count": 29,
   "metadata": {},
   "outputs": [],
   "source": [
    "def add_months(amount: int) -> list[int]:\n",
    "    expense: list[int] = [2200, 2350, 2600, 2130, 2190]\n",
    "    expense.append(amount) \n",
    "    return expense \n"
   ]
  },
  {
   "cell_type": "code",
   "execution_count": 30,
   "metadata": {},
   "outputs": [
    {
     "name": "stdout",
     "output_type": "stream",
     "text": [
      "[2200, 2350, 2600, 2130, 2190, 1980]\n"
     ]
    }
   ],
   "source": [
    "print(add_months(1980))"
   ]
  },
  {
   "cell_type": "markdown",
   "metadata": {},
   "source": [
    "*5. You returned an item that you bought in a month of April and\n",
    "got a refund of 200$. Make a correction to your monthly expense list\n",
    "based on this.*"
   ]
  },
  {
   "cell_type": "code",
   "execution_count": 33,
   "metadata": {},
   "outputs": [],
   "source": [
    "def update_expense(targetMonth:int,refund:int) -> list[int]:\n",
    "    expense: list[int] =[2200, 2350, 2600, 2130, 2190, 1980]\n",
    "    expense[targetMonth] = expense[targetMonth] + refund\n",
    "    return expense"
   ]
  },
  {
   "cell_type": "code",
   "execution_count": 34,
   "metadata": {},
   "outputs": [
    {
     "name": "stdout",
     "output_type": "stream",
     "text": [
      "[2200, 2350, 2600, 2330, 2190, 1980]\n"
     ]
    }
   ],
   "source": [
    "print(update_expense(3,200))"
   ]
  },
  {
   "cell_type": "code",
   "execution_count": null,
   "metadata": {},
   "outputs": [],
   "source": []
  }
 ],
 "metadata": {
  "kernelspec": {
   "display_name": "Python 3",
   "language": "python",
   "name": "python3"
  },
  "language_info": {
   "codemirror_mode": {
    "name": "ipython",
    "version": 3
   },
   "file_extension": ".py",
   "mimetype": "text/x-python",
   "name": "python",
   "nbconvert_exporter": "python",
   "pygments_lexer": "ipython3",
   "version": "3.11.2"
  }
 },
 "nbformat": 4,
 "nbformat_minor": 2
}
