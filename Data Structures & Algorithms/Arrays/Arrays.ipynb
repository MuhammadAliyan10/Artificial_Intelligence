{
 "cells": [
  {
   "cell_type": "code",
   "execution_count": 8,
   "metadata": {},
   "outputs": [],
   "source": [
    "def get_stock_price(price:list[int],day:int) -> None:\n",
    "    print(f\"Price of stock on day {day + 1} is {price[day]}.\") if day <= 7 else print(\"No data avaliable.\")"
   ]
  },
  {
   "cell_type": "code",
   "execution_count": 13,
   "metadata": {},
   "outputs": [
    {
     "name": "stdout",
     "output_type": "stream",
     "text": [
      "No data avaliable.\n"
     ]
    }
   ],
   "source": [
    "price: list[int] = [243,542,532,453,234,234,600]\n",
    "get_stock_price(price,9)"
   ]
  },
  {
   "cell_type": "markdown",
   "metadata": {},
   "source": [
    "#### Working\n",
    "\n",
    "*In this function we stored value in an array and on backend the array has stored in RAM with one address but the value in array stored in different address.*\n",
    "\n",
    "*If you want to see the price of day 3 the formula will be*\n",
    "\n",
    "**price[2] -> 532**\n",
    "\n",
    "*price[0] -> 0x00500 #Memory address*\n",
    "\n",
    "*price[2] -> 0x00500 + 2 * sizeof(integer)*"
   ]
  },
  {
   "cell_type": "markdown",
   "metadata": {},
   "source": [
    "#### **2nd Scenario is to find the day by the price**"
   ]
  },
  {
   "cell_type": "code",
   "execution_count": 24,
   "metadata": {},
   "outputs": [],
   "source": [
    "def get_stock_price_date(price_data:list[int],price:int) -> None:\n",
    "    for i in range(len(price_data)):\n",
    "        if price_data[i] == price:\n",
    "            print(f\"On day {i + 1} the price was {price_data[i]}\")  \n",
    "            break\n",
    "        else:\n",
    "            print(\"No data found\")"
   ]
  },
  {
   "cell_type": "code",
   "execution_count": 25,
   "metadata": {},
   "outputs": [
    {
     "name": "stdout",
     "output_type": "stream",
     "text": [
      "On day 1 the price was 243\n"
     ]
    }
   ],
   "source": [
    "get_stock_price_date(price,243)"
   ]
  },
  {
   "cell_type": "markdown",
   "metadata": {},
   "source": [
    "*Array order is = O(n)*"
   ]
  },
  {
   "cell_type": "markdown",
   "metadata": {},
   "source": [
    "#### **3rd scenario is print all the value**"
   ]
  },
  {
   "cell_type": "code",
   "execution_count": 26,
   "metadata": {},
   "outputs": [],
   "source": [
    "def get_all_stock_price(price:list[int]) -> None:\n",
    "    for i in range(len(price)):\n",
    "        print(f\"On day {i + 1} the price was {price[i]}\")"
   ]
  },
  {
   "cell_type": "code",
   "execution_count": 27,
   "metadata": {},
   "outputs": [
    {
     "name": "stdout",
     "output_type": "stream",
     "text": [
      "On day 1 the price was 243\n",
      "On day 2 the price was 542\n",
      "On day 3 the price was 532\n",
      "On day 4 the price was 453\n",
      "On day 5 the price was 234\n",
      "On day 6 the price was 234\n",
      "On day 7 the price was 600\n"
     ]
    }
   ],
   "source": [
    "get_all_stock_price(price)"
   ]
  },
  {
   "cell_type": "markdown",
   "metadata": {},
   "source": [
    "*Array order is = O(n)*"
   ]
  },
  {
   "cell_type": "markdown",
   "metadata": {},
   "source": [
    "#### **4th scenario is insert value**"
   ]
  },
  {
   "cell_type": "code",
   "execution_count": null,
   "metadata": {},
   "outputs": [],
   "source": [
    "def insert_value(prices:list[int], indexNumber:int, targetValue: int) -> list[int]:\n",
    "    updated_list: list[int] = prices.insert(indexNumber, targetValue)\n",
    "    return updated_list"
   ]
  }
 ],
 "metadata": {
  "kernelspec": {
   "display_name": "Python 3",
   "language": "python",
   "name": "python3"
  },
  "language_info": {
   "codemirror_mode": {
    "name": "ipython",
    "version": 3
   },
   "file_extension": ".py",
   "mimetype": "text/x-python",
   "name": "python",
   "nbconvert_exporter": "python",
   "pygments_lexer": "ipython3",
   "version": "3.11.2"
  }
 },
 "nbformat": 4,
 "nbformat_minor": 2
}
